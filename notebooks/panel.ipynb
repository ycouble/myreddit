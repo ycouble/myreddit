{
 "cells": [
  {
   "cell_type": "code",
   "execution_count": null,
   "metadata": {},
   "outputs": [],
   "source": [
    "import panel\n",
    "import param\n",
    "import pandas as pd\n",
    "\n",
    "panel.extension()"
   ]
  },
  {
   "cell_type": "code",
   "execution_count": null,
   "metadata": {},
   "outputs": [],
   "source": [
    "import sys\n",
    "\n",
    "sys.path.insert(0, \"../dags/\")\n",
    "from jobs.common.bigquery import get_table_as_records\n",
    "from google.cloud import bigquery\n",
    "from google.oauth2 import service_account\n",
    "\n",
    "key_path = \"/Users/yco/.dbt/dbt-user-creds.json\"\n",
    "credentials = service_account.Credentials.from_service_account_file(\n",
    "    key_path  # , scopes=[\"https://www.googleapis.com/auth/cloud-platform\"],\n",
    ")\n",
    "\n",
    "client = bigquery.Client(\n",
    "    credentials=credentials,\n",
    "    project=credentials.project_id,\n",
    ")\n",
    "perfs = pd.DataFrame(\n",
    "    get_table_as_records(\n",
    "        client,\n",
    "        \"model_perfs\",\n",
    "        \"textcat\",\n",
    "    )\n",
    ")"
   ]
  },
  {
   "cell_type": "code",
   "execution_count": null,
   "metadata": {},
   "outputs": [],
   "source": [
    "perfs"
   ]
  },
  {
   "cell_type": "code",
   "execution_count": null,
   "metadata": {},
   "outputs": [],
   "source": [
    "# def sanitize(d):\n",
    "#     return {\n",
    "#         k: str(v)\n",
    "#         if isinstance(v, dict)\n",
    "#         else v.strftime(\"%Y-%m-%d\")\n",
    "#         if k == \"date\"\n",
    "#         else v\n",
    "#         for k, v in d.items()\n",
    "#     }\n",
    "\n",
    "# new_data = []\n",
    "# for _, data in perfs.to_dict(orient=\"index\").items():\n",
    "#     real_dat = data[\"valid\"] if data[\"type\"] == \"valid\" else data[\"train\"]\n",
    "#     data.pop(\"valid\")\n",
    "#     data.pop(\"train\")\n",
    "#     if real_dat is None:\n",
    "#         new_data.append(sanitize(data))\n",
    "#     else:\n",
    "#         new_data.append(sanitize({**data, **real_dat}))\n",
    "# job_config = bigquery.LoadJobConfig()\n",
    "# job_config.autodetect = True\n",
    "# job_config.schema_update_options = [\n",
    "#     \"ALLOW_FIELD_ADDITION\",\n",
    "#     \"ALLOW_FIELD_RELAXATION\",\n",
    "# ]\n",
    "# job_config.write_disposition = \"WRITE_APPEND\"\n",
    "# table = \"model_perfs.textcat\"\n",
    "# client.load_table_from_json(\n",
    "#     new_data, table, job_config=job_config\n",
    "# ).result()"
   ]
  },
  {
   "cell_type": "code",
   "execution_count": null,
   "metadata": {},
   "outputs": [],
   "source": [
    "import holoviews as hv\n",
    "\n",
    "hv.extension(\"bokeh\")\n",
    "\n",
    "\n",
    "class ModelPerfs(param.Parameterized):\n",
    "    perf_metric = param.Selector(\n",
    "        objects=[\"AUC\", \"score\", \"micro_prf\", \"macro_prf\"]\n",
    "    )  # TODO: PRF per label\n",
    "    perf_type = param.Selector(objects=[\"valid\", \"train\"])\n",
    "    model = param.Selector(objects=perfs.model.unique())\n",
    "\n",
    "    def view(self):\n",
    "        if self.perf_metric == \"AUC\":\n",
    "            variables = [\"cats_macro_auc\"]\n",
    "        elif self.perf_metric == \"score\":\n",
    "            variables = [\"cats_score\"]\n",
    "        elif self.perf_metric == \"micro_prf\":\n",
    "            variables = [\"cats_micro_p\", \"cats_micro_r\", \"cats_micro_f\"]\n",
    "        elif self.perf_metric == \"macro_prf\":\n",
    "            variables = [\"cats_macro_p\", \"cats_macro_r\", \"cats_macro_f\"]\n",
    "        cols = [\"date\", \"model\", *variables]\n",
    "        df = (\n",
    "            perfs.loc[perfs.type == self.perf_type, cols]\n",
    "            .set_index([\"date\", \"model\"])\n",
    "            .stack()\n",
    "            .sort_index()\n",
    "        )\n",
    "        df.name = \"performance\"\n",
    "        df.index.names = df.index.names[:2] + [\"variables\"]\n",
    "        df.reset_index()\n",
    "        ds = hv.Dataset(\n",
    "            df,\n",
    "            kdims=[\"date\", \"model\", \"variables\"],\n",
    "            vdims=hv.Dimension(\"performance\", range=(0, 1)),\n",
    "        )\n",
    "        return (\n",
    "            ds.to(hv.Curve, \"date\")\n",
    "            .overlay(\"variables\")\n",
    "            .opts(legend_position=\"right\", toolbar=\"above\", width=600)\n",
    "        )\n",
    "\n",
    "\n",
    "obj = ModelPerfs()\n",
    "panel.Row(obj.param, obj.view)"
   ]
  },
  {
   "cell_type": "code",
   "execution_count": null,
   "metadata": {},
   "outputs": [],
   "source": []
  }
 ],
 "metadata": {
  "interpreter": {
   "hash": "ee6d127c5ea32ef9451a868103c0a9bd2bd3e120dedba9455c4c30e8cd26a67e"
  },
  "kernelspec": {
   "display_name": "Python 3.8.6 64-bit ('myreddit': pyenv)",
   "language": "python",
   "name": "python3"
  },
  "language_info": {
   "codemirror_mode": {
    "name": "ipython",
    "version": 3
   },
   "file_extension": ".py",
   "mimetype": "text/x-python",
   "name": "python",
   "nbconvert_exporter": "python",
   "pygments_lexer": "ipython3",
   "version": "3.8.6"
  },
  "orig_nbformat": 4
 },
 "nbformat": 4,
 "nbformat_minor": 2
}
