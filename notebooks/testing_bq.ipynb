{
 "cells": [
  {
   "cell_type": "code",
   "execution_count": null,
   "metadata": {},
   "outputs": [],
   "source": [
    "from google.cloud import bigquery\n",
    "from google.oauth2 import service_account\n",
    "import sys\n",
    "\n",
    "sys.path.insert(0, \"../dags/\")\n",
    "from jobs.common.bigquery import get_table_as_records\n",
    "import pandas as pd"
   ]
  },
  {
   "cell_type": "code",
   "execution_count": null,
   "metadata": {},
   "outputs": [],
   "source": [
    "key_path = \"/Users/yco/.config/dbt-user-creds.json\"\n",
    "credentials = service_account.Credentials.from_service_account_file(\n",
    "    key_path  # , scopes=[\"https://www.googleapis.com/auth/cloud-platform\"],\n",
    ")\n",
    "\n",
    "client = bigquery.Client(\n",
    "    credentials=credentials,\n",
    "    project=credentials.project_id,\n",
    ")"
   ]
  },
  {
   "cell_type": "code",
   "execution_count": null,
   "metadata": {},
   "outputs": [],
   "source": [
    "def sanitize(d):\n",
    "    return {\n",
    "        k: str(v)\n",
    "        if isinstance(v, dict)\n",
    "        else v.strftime(\"%Y-%m-%d\")\n",
    "        if k in (\"date\", \"fetch_date\")\n",
    "        else v\n",
    "        for k, v in d.items()\n",
    "    }"
   ]
  },
  {
   "cell_type": "markdown",
   "metadata": {},
   "source": [
    "# Replace raw posts content to change schema"
   ]
  },
  {
   "cell_type": "code",
   "execution_count": null,
   "metadata": {},
   "outputs": [],
   "source": [
    "data = get_table_as_records(\n",
    "    client,\n",
    "    \"reddit_raw\",\n",
    "    \"posts\",\n",
    ")\n",
    "# data[0][\"likes\"] = False"
   ]
  },
  {
   "cell_type": "code",
   "execution_count": null,
   "metadata": {},
   "outputs": [],
   "source": [
    "data = pd.DataFrame(\n",
    "    get_table_as_records(\n",
    "        client,\n",
    "        \"reddit_texts\",\n",
    "        \"posts_clean\",\n",
    "    )\n",
    ")\n",
    "data.to_csv(\"../reddit_data.csv\")"
   ]
  },
  {
   "cell_type": "code",
   "execution_count": null,
   "metadata": {},
   "outputs": [],
   "source": [
    "pd.DataFrame(data).to_csv(\"~/data/bkp_reddit.csv\")"
   ]
  },
  {
   "cell_type": "code",
   "execution_count": null,
   "metadata": {},
   "outputs": [],
   "source": [
    "job_config = bigquery.LoadJobConfig()\n",
    "job_config.autodetect = True\n",
    "job_config.schema_update_options = [\n",
    "    \"ALLOW_FIELD_ADDITION\",\n",
    "    \"ALLOW_FIELD_RELAXATION\",\n",
    "]\n",
    "job_config.write_disposition = \"WRITE_APPEND\"\n",
    "table = \"reddit_raw.posts\"\n",
    "try:\n",
    "    client.delete_table(table)\n",
    "except:\n",
    "    pass\n",
    "client.load_table_from_json(\n",
    "    [sanitize(d) for d in data], table, job_config=job_config\n",
    ").result()"
   ]
  },
  {
   "cell_type": "markdown",
   "metadata": {},
   "source": [
    "# change model perfs models"
   ]
  },
  {
   "cell_type": "code",
   "execution_count": null,
   "metadata": {},
   "outputs": [],
   "source": [
    "query = \"select * from `myreddit-338008.model_perfs.textcat` where model = 'models'\"\n",
    "perfs = pd.DataFrame(\n",
    "    get_table_as_records(\n",
    "        client,\n",
    "        \"model_perfs\",\n",
    "        \"textcat\",\n",
    "    )\n",
    ")\n",
    "new_data = []\n",
    "for _, data in perfs.to_dict(orient=\"index\").items():\n",
    "    if data[\"model\"] == \"models\":\n",
    "        continue\n",
    "    data[\"model\"] = \"textcat_bow\"\n",
    "    data[\"model_type\"] = \"subreddit_classif\"\n",
    "    new_data.append(sanitize(data))\n",
    "print(new_data)"
   ]
  },
  {
   "cell_type": "code",
   "execution_count": null,
   "metadata": {},
   "outputs": [],
   "source": [
    "job_config = bigquery.LoadJobConfig()\n",
    "job_config.autodetect = True\n",
    "job_config.schema_update_options = [\n",
    "    \"ALLOW_FIELD_ADDITION\",\n",
    "    \"ALLOW_FIELD_RELAXATION\",\n",
    "]\n",
    "job_config.write_disposition = \"WRITE_APPEND\"\n",
    "table = \"model_perfs.textcat\"\n",
    "try:\n",
    "    client.delete_table(table)\n",
    "except:\n",
    "    pass\n",
    "client.load_table_from_json(new_data, table, job_config=job_config).result()"
   ]
  },
  {
   "cell_type": "code",
   "execution_count": null,
   "metadata": {},
   "outputs": [],
   "source": [
    "from textacy import preprocessing\n",
    "\n",
    "import html\n",
    "import re\n",
    "\n",
    "\n",
    "def replace_md_url(text):\n",
    "    return re.compile(r\"\\[(.*)\\]\\(([^\\(\\)\\[\\]]*)\\)\").sub(r\"\\g<1> \\g<2>\", text)\n",
    "\n",
    "\n",
    "preproc_pipe = preprocessing.make_pipeline(\n",
    "    html.unescape,\n",
    "    html.unescape,\n",
    "    preprocessing.normalize.whitespace,\n",
    "    preprocessing.normalize.bullet_points,\n",
    "    preprocessing.normalize.hyphenated_words,\n",
    "    replace_md_url,\n",
    "    preprocessing.replace.urls,\n",
    "    preprocessing.remove.brackets,\n",
    "    preprocessing.normalize.unicode,\n",
    "    preprocessing.remove.accents,\n",
    "    preprocessing.replace.emojis,\n",
    "    preprocessing.replace.numbers,\n",
    "    preprocessing.replace.user_handles,\n",
    ")"
   ]
  },
  {
   "cell_type": "code",
   "execution_count": null,
   "metadata": {},
   "outputs": [],
   "source": [
    "query = \"\"\"\n",
    "SELECT * from `reddit_texts.post_contents` LIMIT 20\n",
    "\"\"\"\n",
    "query_job = client.query(query)\n",
    "\n",
    "\n",
    "rows = []\n",
    "for i, row in enumerate(query_job):\n",
    "    row = dict(row)\n",
    "    text = row.pop(\"selftext\")\n",
    "    row[\"text\"] = preproc_pipe(text)\n",
    "    rows.append(row)\n",
    "\n",
    "rows"
   ]
  },
  {
   "cell_type": "code",
   "execution_count": null,
   "metadata": {},
   "outputs": [],
   "source": []
  }
 ],
 "metadata": {
  "kernelspec": {
   "display_name": "myreddit",
   "language": "python",
   "name": "myreddit"
  },
  "language_info": {
   "codemirror_mode": {
    "name": "ipython",
    "version": 3
   },
   "file_extension": ".py",
   "mimetype": "text/x-python",
   "name": "python",
   "nbconvert_exporter": "python",
   "pygments_lexer": "ipython3",
   "version": "3.8.6"
  }
 },
 "nbformat": 4,
 "nbformat_minor": 4
}
