{
 "cells": [
  {
   "cell_type": "code",
   "execution_count": null,
   "metadata": {},
   "outputs": [],
   "source": [
    "import rubrix as rb\n",
    "\n",
    "# If you are using the default installation you can skip this line\n",
    "rb.set_workspace(\"rubrix\")\n",
    "\n",
    "rb.log(\n",
    "    [\n",
    "        rb.TextClassificationRecord(\n",
    "            inputs=\"my first rubrix example\",\n",
    "            prediction=[(\"pos\", 1), (\"neg\", 0)],\n",
    "            prediction_agent=\"agent1\",\n",
    "        ),\n",
    "        rb.TextClassificationRecord(\n",
    "            inputs=\"my first rubrix example\",\n",
    "            prediction=[(\"pos\", 1), (\"neg\", 0)],\n",
    "            prediction_agent=\"agent2\",\n",
    "        ),\n",
    "        rb.TextClassificationRecord(\n",
    "            inputs=\"my first rubrix example\",\n",
    "            prediction=[(\"pos\", 1), (\"neg\", 0)],\n",
    "            prediction_agent=\"agent3\",\n",
    "        ),\n",
    "    ],\n",
    "    name=\"example-dataset\",\n",
    ")"
   ]
  },
  {
   "cell_type": "code",
   "execution_count": null,
   "metadata": {},
   "outputs": [],
   "source": [
    "rb.delete(\"example-dataset\")"
   ]
  },
  {
   "cell_type": "code",
   "execution_count": null,
   "metadata": {},
   "outputs": [],
   "source": []
  }
 ],
 "metadata": {
  "interpreter": {
   "hash": "ee6d127c5ea32ef9451a868103c0a9bd2bd3e120dedba9455c4c30e8cd26a67e"
  },
  "kernelspec": {
   "display_name": "Python 3.8.6 64-bit ('myreddit')",
   "language": "python",
   "name": "python3"
  },
  "language_info": {
   "codemirror_mode": {
    "name": "ipython",
    "version": 3
   },
   "file_extension": ".py",
   "mimetype": "text/x-python",
   "name": "python",
   "nbconvert_exporter": "python",
   "pygments_lexer": "ipython3",
   "version": "3.8.6"
  },
  "orig_nbformat": 4
 },
 "nbformat": 4,
 "nbformat_minor": 2
}
